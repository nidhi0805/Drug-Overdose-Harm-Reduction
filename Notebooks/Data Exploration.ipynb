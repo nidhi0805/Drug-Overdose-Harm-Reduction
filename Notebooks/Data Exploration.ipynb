{
 "cells": [
  {
   "cell_type": "code",
   "execution_count": 2,
   "id": "d4d43406",
   "metadata": {},
   "outputs": [],
   "source": [
    "import pandas as pd\n",
    "import numpy as np\n",
    "import os"
   ]
  },
  {
   "cell_type": "code",
   "execution_count": 3,
   "id": "61a0a4cd",
   "metadata": {},
   "outputs": [
    {
     "name": "stdout",
     "output_type": "stream",
     "text": [
      "Requirement already satisfied: openpyxl in /Users/nidhipatel/anaconda3/lib/python3.11/site-packages (3.0.10)\n",
      "Requirement already satisfied: et_xmlfile in /Users/nidhipatel/anaconda3/lib/python3.11/site-packages (from openpyxl) (1.1.0)\n",
      "Note: you may need to restart the kernel to use updated packages.\n"
     ]
    }
   ],
   "source": [
    "pip install openpyxl"
   ]
  },
  {
   "cell_type": "code",
   "execution_count": 4,
   "id": "2a7d44a4",
   "metadata": {},
   "outputs": [
    {
     "name": "stdout",
     "output_type": "stream",
     "text": [
      "            FY Month (abbv)                   Component            Region  \\\n",
      "0  2025 (FYTD)          DEC  Office of Field Operations  Coastal/Interior   \n",
      "1  2025 (FYTD)          DEC  Office of Field Operations  Coastal/Interior   \n",
      "2  2025 (FYTD)          DEC  Office of Field Operations  Coastal/Interior   \n",
      "3  2025 (FYTD)          DEC  Office of Field Operations  Coastal/Interior   \n",
      "4  2025 (FYTD)          DEC  Office of Field Operations  Coastal/Interior   \n",
      "\n",
      "  Land Filter  Area of Responsibility      Drug Type  Count of Event  \\\n",
      "0       Other    ATLANTA FIELD OFFICE        Ecstasy               1   \n",
      "1       Other    ATLANTA FIELD OFFICE      Marijuana               3   \n",
      "2       Other    ATLANTA FIELD OFFICE  Other Drugs**               6   \n",
      "3       Other  BALTIMORE FIELD OFFICE        Cocaine               3   \n",
      "4       Other  BALTIMORE FIELD OFFICE       Fentanyl               3   \n",
      "\n",
      "   Sum Qty (lbs)  \n",
      "0       0.825190  \n",
      "1       3.435243  \n",
      "2      21.752350  \n",
      "3       0.776600  \n",
      "4       0.862757  \n"
     ]
    }
   ],
   "source": [
    "# Define the path to the dataset\n",
    "dataset_path = os.path.join('..','dataset', 'nationwide-drugs-fy22-fy25-dec.csv')  # Update 'my_data.csv' with your dataset's filename\n",
    "\n",
    "# Load the dataset into a Pandas DataFrame\n",
    "drug_seizure = pd.read_csv(dataset_path)  # Use pd.read_excel for Excel files or other appropriate methods\n",
    "print(drug_seizure.head())  # Display the first 5 rows of the dataset"
   ]
  },
  {
   "cell_type": "code",
   "execution_count": 24,
   "id": "015a6766",
   "metadata": {},
   "outputs": [],
   "source": [
    "drug_seizure_2022=drug_seizure[drug_seizure['FY']=='2022']\n",
    "drug_seizure_2022.head()\n",
    "file_path = '/Users/nidhipatel/Desktop/Classes/Winter25/Experiential Learning/Individual XN-Repo/Drug-Overdose-Harm-Reduction/drug_seizure_2022.csv'  # Replace with your desired file path\n",
    "drug_seizure_2022.to_csv(file_path, index=False)"
   ]
  },
  {
   "cell_type": "code",
   "execution_count": 6,
   "id": "0919ac82",
   "metadata": {},
   "outputs": [
    {
     "data": {
      "text/plain": [
       "array(['Coastal/Interior', 'Northern Border', 'Southwest Border'],\n",
       "      dtype=object)"
      ]
     },
     "execution_count": 6,
     "metadata": {},
     "output_type": "execute_result"
    }
   ],
   "source": [
    "drug_seizure_2022['Region'].unique()"
   ]
  },
  {
   "cell_type": "code",
   "execution_count": 12,
   "id": "ad21f90c",
   "metadata": {},
   "outputs": [
    {
     "name": "stdout",
     "output_type": "stream",
     "text": [
      "Sheet 'Overall by Sex & Age' loaded successfully!\n",
      "  jurisdiction sex   age month  year time_frame dataset  population  \\\n",
      "0           US   F  0-14     1  2018    monthly      ED    21045088   \n",
      "1           US   F  0-14     2  2018    monthly      ED    21045088   \n",
      "2           US   F  0-14     3  2018    monthly      ED    21045088   \n",
      "3           US   F  0-14     4  2018    monthly      ED    21045088   \n",
      "4           US   F  0-14     5  2018    monthly      ED    21045088   \n",
      "\n",
      "   count_alldrug count_opioid  ... count_methamphetamine count_benzodiazepine  \\\n",
      "0           1719           49  ...                   NaN                   54   \n",
      "1           1606           50  ...                   NaN                   60   \n",
      "2           1643           35  ...                   NaN                   62   \n",
      "3           1673           46  ...                   NaN                   64   \n",
      "4           1810           51  ...                   NaN                   64   \n",
      "\n",
      "  rate_alldrug rate_opioid rate_fentanyl rate_heroin  rate_stimulant  \\\n",
      "0          8.2         0.2           NaN           0             0.3   \n",
      "1          7.6         0.2           NaN  suppressed             0.4   \n",
      "2          7.8         0.2           NaN           0             0.4   \n",
      "3          7.9         0.2           NaN           0             0.4   \n",
      "4          8.6         0.2           NaN  suppressed             0.3   \n",
      "\n",
      "  rate_cocaine rate_methamphetamine rate_benzodiazepine  \n",
      "0   suppressed                  NaN                 0.3  \n",
      "1   suppressed                  NaN                 0.3  \n",
      "2   suppressed                  NaN                 0.3  \n",
      "3   suppressed                  NaN                 0.3  \n",
      "4   suppressed                  NaN                 0.3  \n",
      "\n",
      "[5 rows x 24 columns]\n"
     ]
    }
   ],
   "source": [
    "file_path = '../dataset/DOSE-Data-Dictionary-and-Data.xlsx'  # Adjust the path as needed\n",
    "\n",
    "sheet_name = 'Overall by Sex & Age'  # Replace with the actual sheet name\n",
    "\n",
    "try:\n",
    "    # Read the specified sheet from the Excel file\n",
    "    emergency_overdose = pd.read_excel(file_path, sheet_name=sheet_name, engine='openpyxl')\n",
    "    print(f\"Sheet '{sheet_name}' loaded successfully!\")\n",
    "    print(emergency_overdose.head())  # Display the first few rows of the dataframe\n",
    "except FileNotFoundError as e:\n",
    "    print(f\"Error: {e}\")\n",
    "    print(\"Please verify the file path and ensure the file exists.\")\n",
    "except ValueError as e:\n",
    "    print(f\"Error: {e}\")\n",
    "    print(\"Please verify the sheet name.\")"
   ]
  },
  {
   "cell_type": "code",
   "execution_count": 13,
   "id": "fb1b526f",
   "metadata": {},
   "outputs": [
    {
     "data": {
      "text/plain": [
       "array([2018, 2019, 2020, 2021, 2022, 2023])"
      ]
     },
     "execution_count": 13,
     "metadata": {},
     "output_type": "execute_result"
    }
   ],
   "source": [
    "emergency_overdose['year'].unique()"
   ]
  },
  {
   "cell_type": "code",
   "execution_count": 25,
   "id": "499085f9",
   "metadata": {},
   "outputs": [],
   "source": [
    "emergency_overdose_2022=emergency_overdose[emergency_overdose['year']==2022]\n",
    "emergency_overdose_2022.head()\n",
    "file_path = '/Users/nidhipatel/Desktop/Classes/Winter25/Experiential Learning/Individual XN-Repo/Drug-Overdose-Harm-Reduction/emergency_overdose_2022.csv'  # Replace with your desired file path\n",
    "emergency_overdose_2022.to_csv(file_path, index=False)"
   ]
  },
  {
   "cell_type": "code",
   "execution_count": 19,
   "id": "1eefa1d5",
   "metadata": {},
   "outputs": [
    {
     "name": "stdout",
     "output_type": "stream",
     "text": [
      "Sheet 'NFLIS Synth Cannabinoids 2022' loaded successfully!\n",
      "  Table 4. State Counts for Synthetic Cannabinoids: 2022 Unnamed: 1  \\\n",
      "0  Counts of synthetic cannabinoids submitted to ...            NaN   \n",
      "1                                               Drug        Alabama   \n",
      "2                                       5F-AB-PINACA              0   \n",
      "3                                      5F-ADB-PINACA              0   \n",
      "4                                             5F-AEB              0   \n",
      "\n",
      "  Unnamed: 2 Unnamed: 3 Unnamed: 4  Unnamed: 5 Unnamed: 6   Unnamed: 7  \\\n",
      "0        NaN        NaN        NaN         NaN        NaN          NaN   \n",
      "1     Alaska    Arizona   Arkansas  California   Colorado  Connecticut   \n",
      "2          0          0          0           0          0            0   \n",
      "3          0          0          0           0          0            0   \n",
      "4          0          0          0           0          0            0   \n",
      "\n",
      "  Unnamed: 8            Unnamed: 9 Unnamed: 10 Unnamed: 11 Unnamed: 12  \\\n",
      "0        NaN                   NaN         NaN         NaN         NaN   \n",
      "1   Delaware  District of Columbia     Florida     Georgia      Hawaii   \n",
      "2          0                     0           0           0           0   \n",
      "3          0                     0           0           0           0   \n",
      "4          0                     0           0           0           0   \n",
      "\n",
      "  Unnamed: 13  \n",
      "0         NaN  \n",
      "1       Idaho  \n",
      "2           0  \n",
      "3           0  \n",
      "4           0  \n"
     ]
    }
   ],
   "source": [
    "file_path = '../dataset/2022 Public Data/2022NFLISWebsiteTable4.xlsx'  # Adjust the path as needed\n",
    "\n",
    "sheet_name = 'NFLIS Synth Cannabinoids 2022'  # Replace with the actual sheet name\n",
    "\n",
    "try:\n",
    "    # Read the specified sheet from the Excel file\n",
    "    Toxicology = pd.read_excel(file_path, sheet_name=sheet_name, engine='openpyxl')\n",
    "    print(f\"Sheet '{sheet_name}' loaded successfully!\")\n",
    "    print(Toxicology.head())  # Display the first few rows of the dataframe\n",
    "except FileNotFoundError as e:\n",
    "    print(f\"Error: {e}\")\n",
    "    print(\"Please verify the file path and ensure the file exists.\")\n",
    "except ValueError as e:\n",
    "    print(f\"Error: {e}\")\n",
    "    print(\"Please verify the sheet name.\")"
   ]
  },
  {
   "cell_type": "code",
   "execution_count": 26,
   "id": "60effadd",
   "metadata": {},
   "outputs": [],
   "source": [
    "Toxicology.head()\n",
    "file_path = '/Users/nidhipatel/Desktop/Classes/Winter25/Experiential Learning/Individual XN-Repo/Drug-Overdose-Harm-Reduction/Toxicology_2022.csv'  # Replace with your desired file path\n",
    "Toxicology.to_csv(file_path, index=False)"
   ]
  },
  {
   "cell_type": "code",
   "execution_count": 21,
   "id": "d44aae95",
   "metadata": {},
   "outputs": [
    {
     "data": {
      "text/html": [
       "<div>\n",
       "<style scoped>\n",
       "    .dataframe tbody tr th:only-of-type {\n",
       "        vertical-align: middle;\n",
       "    }\n",
       "\n",
       "    .dataframe tbody tr th {\n",
       "        vertical-align: top;\n",
       "    }\n",
       "\n",
       "    .dataframe thead th {\n",
       "        text-align: right;\n",
       "    }\n",
       "</style>\n",
       "<table border=\"1\" class=\"dataframe\">\n",
       "  <thead>\n",
       "    <tr style=\"text-align: right;\">\n",
       "      <th></th>\n",
       "      <th>Drug</th>\n",
       "      <th>Alabama</th>\n",
       "      <th>Alaska</th>\n",
       "      <th>Arizona</th>\n",
       "      <th>Arkansas</th>\n",
       "      <th>California</th>\n",
       "      <th>Colorado</th>\n",
       "      <th>Connecticut</th>\n",
       "      <th>Delaware</th>\n",
       "      <th>District of Columbia</th>\n",
       "      <th>Florida</th>\n",
       "      <th>Georgia</th>\n",
       "      <th>Hawaii</th>\n",
       "      <th>Idaho</th>\n",
       "    </tr>\n",
       "  </thead>\n",
       "  <tbody>\n",
       "    <tr>\n",
       "      <th>0</th>\n",
       "      <td>5F-AB-PINACA</td>\n",
       "      <td>0</td>\n",
       "      <td>0</td>\n",
       "      <td>0</td>\n",
       "      <td>0</td>\n",
       "      <td>0</td>\n",
       "      <td>0</td>\n",
       "      <td>0</td>\n",
       "      <td>0</td>\n",
       "      <td>0</td>\n",
       "      <td>0</td>\n",
       "      <td>0</td>\n",
       "      <td>0</td>\n",
       "      <td>0</td>\n",
       "    </tr>\n",
       "    <tr>\n",
       "      <th>1</th>\n",
       "      <td>5F-ADB-PINACA</td>\n",
       "      <td>0</td>\n",
       "      <td>0</td>\n",
       "      <td>0</td>\n",
       "      <td>0</td>\n",
       "      <td>0</td>\n",
       "      <td>0</td>\n",
       "      <td>0</td>\n",
       "      <td>0</td>\n",
       "      <td>0</td>\n",
       "      <td>0</td>\n",
       "      <td>0</td>\n",
       "      <td>0</td>\n",
       "      <td>0</td>\n",
       "    </tr>\n",
       "    <tr>\n",
       "      <th>2</th>\n",
       "      <td>5F-AEB</td>\n",
       "      <td>0</td>\n",
       "      <td>0</td>\n",
       "      <td>0</td>\n",
       "      <td>0</td>\n",
       "      <td>0</td>\n",
       "      <td>0</td>\n",
       "      <td>0</td>\n",
       "      <td>0</td>\n",
       "      <td>0</td>\n",
       "      <td>0</td>\n",
       "      <td>0</td>\n",
       "      <td>0</td>\n",
       "      <td>0</td>\n",
       "    </tr>\n",
       "    <tr>\n",
       "      <th>3</th>\n",
       "      <td>5F-AKB48</td>\n",
       "      <td>0</td>\n",
       "      <td>0</td>\n",
       "      <td>0</td>\n",
       "      <td>0</td>\n",
       "      <td>0</td>\n",
       "      <td>0</td>\n",
       "      <td>0</td>\n",
       "      <td>0</td>\n",
       "      <td>0</td>\n",
       "      <td>0</td>\n",
       "      <td>0</td>\n",
       "      <td>0</td>\n",
       "      <td>0</td>\n",
       "    </tr>\n",
       "    <tr>\n",
       "      <th>4</th>\n",
       "      <td>5F-EDMB-PICA</td>\n",
       "      <td>0</td>\n",
       "      <td>0</td>\n",
       "      <td>0</td>\n",
       "      <td>2</td>\n",
       "      <td>0</td>\n",
       "      <td>0</td>\n",
       "      <td>0</td>\n",
       "      <td>0</td>\n",
       "      <td>0</td>\n",
       "      <td>0</td>\n",
       "      <td>0</td>\n",
       "      <td>0</td>\n",
       "      <td>0</td>\n",
       "    </tr>\n",
       "  </tbody>\n",
       "</table>\n",
       "</div>"
      ],
      "text/plain": [
       "            Drug Alabama Alaska Arizona Arkansas California Colorado  \\\n",
       "0   5F-AB-PINACA       0      0       0        0          0        0   \n",
       "1  5F-ADB-PINACA       0      0       0        0          0        0   \n",
       "2         5F-AEB       0      0       0        0          0        0   \n",
       "3      5F-AKB48        0      0       0        0          0        0   \n",
       "4   5F-EDMB-PICA       0      0       0        2          0        0   \n",
       "\n",
       "  Connecticut Delaware District of Columbia Florida Georgia Hawaii Idaho  \n",
       "0           0        0                    0       0       0      0     0  \n",
       "1           0        0                    0       0       0      0     0  \n",
       "2           0        0                    0       0       0      0     0  \n",
       "3           0        0                    0       0       0      0     0  \n",
       "4           0        0                    0       0       0      0     0  "
      ]
     },
     "execution_count": 21,
     "metadata": {},
     "output_type": "execute_result"
    }
   ],
   "source": [
    "# Set the second row as the header\n",
    "Toxicology.columns = Toxicology.iloc[1]  # Row 1 contains the actual headers\n",
    "Toxicology = Toxicology[2:]  # Drop the first two rows (rows 0 and 1)\n",
    "\n",
    "# Reset the index\n",
    "Toxicology = Toxicology.reset_index(drop=True)\n",
    "\n",
    "# Rename columns if necessary\n",
    "Toxicology.columns.name = None  # Remove the columns' name attribute if it exists\n",
    "Toxicology.columns = Toxicology.columns.str.strip()  # Clean up any extra spaces in column names\n",
    "\n",
    "Toxicology.head()\n"
   ]
  },
  {
   "cell_type": "code",
   "execution_count": 22,
   "id": "c98c1ce0",
   "metadata": {},
   "outputs": [
    {
     "data": {
      "text/plain": [
       "array(['5F-AB-PINACA', '5F-ADB-PINACA', '5F-AEB', '5F-AKB48 ',\n",
       "       '5F-EDMB-PICA', 'AB-CHMINACA', 'AB-FUBINACA', 'AB-PINACA',\n",
       "       'adamantyl-CHMINACA', 'ADB-4en-PFUPPYCA', 'ADB-4en-PINACA',\n",
       "       \"ADB-5'Br-4en-PINACA\", 'ADB-5Br-INACA', 'ADB-BINACA',\n",
       "       'ADB-Br-BUTINACA', 'ADB-5Br-BUTINACA',\n",
       "       'ADB-Br-BUTINACA (unspecified isomer)', 'ADB-BUTINACA',\n",
       "       'ADB-FUBIATA', 'ADB-FUBINACA', 'ADB-HEXINACA', 'ADB-PHETINACA',\n",
       "       'ADB-PINACA', 'AFUBIATA', 'AKB48', 'AM2201', 'BZO-4en-POXIZID',\n",
       "       'BZO-CHMOXIZID', 'BZO-HEXOXIZID', 'BZO-POXIZID', 'CH-PIATA',\n",
       "       'Cyano-CUMYL-BUTINACA', '4CN-CUMYL-BUTINACA',\n",
       "       'Cyano-CUMYL-BUTINACA (unspecified isomer)', 'EDMB-4en-PINACA',\n",
       "       'EDMB-PINACA  ', 'EMB-FUBINACA', 'FDU-PB-22',\n",
       "       'Fluoro-3,5-AB-PFUPPYCA', '5F-3,5-AB-PFUPPYCA',\n",
       "       'Fluoro-3,5-AB-PFUPPYCA (unspecified isomer)', 'Fluoro-ABUTINACA',\n",
       "       '4F-ABUTINACA  ', 'Fluoro-ABUTINACA (unspecified isomer)',\n",
       "       'Fluoro-ADB', '5F-ADB ', 'Fluoro-BZO-POXIZID', '5F-BZO-POXIZID',\n",
       "       'Fluoro-BZO-POXIZID (unspecified isomer)', 'Fluoro-CUMYL-PINACA',\n",
       "       '5F-CUMYL-PINACA', 'Fluoro-CUMYL-PINACA (unspecified isomer)',\n",
       "       'Fluoro-EDMB-PICA', 'Fluoro-EMB-PICA', '5F-EMB-PICA',\n",
       "       'Fluoro-EMB-PICA (unspecified isomer)', 'Fluoro-EMDB-PINACA',\n",
       "       '5F-EDMB-PINACA', 'Fluoro-MDMB-BUTICA', '4F-MDMB-BUTICA',\n",
       "       'Fluoro-MDMB-BUTICA (unspecified isomer)', 'Fluoro-MDMB-BUTINACA',\n",
       "       '4F-MDMB-BUTINACA', 'Fluoro-MDMB-BUTINACA (unspecified isomer)',\n",
       "       'Fluoro-MDMB-PICA', '5F-MDMB-PICA',\n",
       "       'Fluoro-MDMB-PICA (unspecified isomer)', 'Drug', 'FUB-144',\n",
       "       'FUB-AKB48', 'FUB-AMB ', 'JWH-018', 'JWH-081', 'JWH-122',\n",
       "       'JWH-210', 'JWH-250', 'MAB-CHMINACA', 'MDMB-4en-PICA',\n",
       "       'MDMB-bromo-INACA', 'MDMB-5Br-INACA',\n",
       "       'MDMB-bromo-INACA (unspecified isomer)', 'MDMB-BUTINACA',\n",
       "       'MDMB-CHMICA ', 'MDMB-en-PINACA', 'MDMB-4en-PINACA',\n",
       "       'MDMB-en-PINACA (unspecified isomer)', 'MDMB-INACA',\n",
       "       'MMB-4en-PINACA', 'MMB-FUBICA', 'NM-2201', 'RCS-4',\n",
       "       'Synthetic cannabinoids1',\n",
       "       'Synthetic cannabinoids (butaldehydeamidoindoles)1', 'THJ-018',\n",
       "       'THJ-2201', 'UR-144', 'XLR11', nan,\n",
       "       '4CN-CUMYL-BUTINACA=1-(4-cyanobutyl)-N-(2-phenylpropan-2-yl)-1H-indazole-3-carboxamide',\n",
       "       '4F-ABUTINACA=N-(1-adamantyl)-1-(4-fluorobutyl)indazole-3-carboxamide',\n",
       "       '4F-MDMB-BUTICA=methyl 2-(1-(4-fluorobutyl)-1H-indole-3-carboxamido)-3,3-dimethylbutanoate',\n",
       "       '4F-MDMB-BUTINACA=methyl 2-(1-(4-fluorobutyl)-1H-indazole-3-carboxamido)-3,3-dimethylbutanoate',\n",
       "       '5F-3,5-AB-PFUPPYCA=N-(1-amino-3-methyl-1-oxobutan-2-yl)-1-(5-fluoropentyl)-3-(4-fluorophenyl)-1H-pyrazole-5-carboxamide',\n",
       "       '5F-AB-PINACA=N-(1-amino-3-methyl-1-oxobutan-2-yl)-1-(5-fluoropentyl)-1H-indazole-3-carboxamide',\n",
       "       '5F-ADB=methyl 2-(1-(5-fluoropentyl)-1H-indazole-3-carboxamido)-3,3-dimethylbutanoate',\n",
       "       '5F-ADB-PINACA=N-(1-amino-3,3-dimethyl-1-oxobutan-2-yl)-1-(5-fluoropentyl-1H-indazole-3-carboxamide',\n",
       "       '5F-AEB=ethyl 2-(1-(5-fluoropentyl)-1H-indazole-3-carboxamido)-3-methylbutanoate',\n",
       "       '5F-AKB48=N-(adamantan-1-yl)-1-(5-fluoropentyl)-1H-indazole-3-carboxamide',\n",
       "       \"5F-BZO-POXIZID=N'-[(3Z)-1-(5-fluoropentyl)-2-oxo-1,2-dihydro-3H-indol-3-ylidene]benzohydrazide\",\n",
       "       '5F-CUMYL-PINACA=1-(5-fluoropentyl)-N-(2-phenylpropan-2-yl)-1H-indazole-3-carboxamide',\n",
       "       '5F-EDMB-PICA=ethyl 2-(1-(5-fluoropentyl)-1H-indole-3-carboxamido)-3,3-dimethylbutanoate',\n",
       "       '5F-EDMB-PINACA=ethyl 2-(1-(5-fluoropentyl)-1H-indazole-3-carboxamido)-3,3-dimethylbutanoate',\n",
       "       '5F-EMB-PICA=ethyl 2-(1-(5-fluoropentyl)-1H-indole-3-carboxamido)-3-methylbutanoate',\n",
       "       '5F-MDMB-PICA=methyl 2-(1-(5-fluoropentyl)-1H-indole-3-carboxamido)-3,3-dimethylbutanoate',\n",
       "       'AB-CHMINACA=N-(1-amino-3-methyl-1-oxobutan-2-yl)-1-(cyclohexylmethyl)-1H-indazole-3-carboxamide',\n",
       "       'AB-FUBINACA=N-(1-amino-3-methyl-1-oxobutan-2-yl)-1-(4-fluorobenzyl)-1H-indazole-3-carboxamide',\n",
       "       'AB-PINACA=N-(1-amino-3-methyl-1-oxobutan-2-yl)-1-pentyl-1H-indazole-3-carboxamide',\n",
       "       'adamantyl-CHMINACA=N-(1-adamantyl)-1-(cyclohexylmethyl)indazole-3-carboxamide',\n",
       "       'ADB-4en-PINACA=N-(1-amino-3,3-dimethyl-1-oxobutan-2-yl)-1-(pent-4-en-1-yl)-1H-indazole-3-carboxamide',\n",
       "       \"ADB-5'Br-4en-PINACA=N-(1-amino-3,3-dimethyl-1-oxobutan-2-yl)-5-bromo-1-(pent-4-en-1-yl)-1H-indazole-3-carboxamide\",\n",
       "       'ADB-5Br-BUTINACA=N-(1-carbamoyl-2,2-dimethylpropyl)-5-bromo-1-butyl-1H-indazole-3-carboxamide',\n",
       "       'ADB-5Br-INACA=N-(1-amino-3,3-dimethyl-1-oxobutan-2-yl)-5-bromo-1H-indazole-3-carboxamide',\n",
       "       'ADB-BINACA=N-(1-amino-3,3-dimethyl-1-oxobutan-2-yl)-1-benzyl-1H-indazole-3-carboxamide',\n",
       "       'ADB-BUTINACA=N-(1-amino-3,3-dimethyl-1-oxobutan-2-yl)-1-butyl-1H-indazole-3-carboxamide',\n",
       "       'ADB-FUBIATA=N-(1-amino-3,3-dimethyl-1-oxobutan-2-yl)-1-(4-fluorobenzyl)-1H-indole-3-acetamide',\n",
       "       'ADB-FUBINACA=N-(1-amino-3,3-dimethyl-1-oxobutan-2-yl)-1-(4-fluorobenzyl)-1H-indazole-3-carboxamide',\n",
       "       'ADB-HEXINACA=N-(1-amino-3,3-dimethyl-1-oxobutan-2-yl)-1-hexyl-1H-indazole-3-carboxamide',\n",
       "       'ADB-PHETINACA=N-(1-amino-3,3-dimethyl-1-oxobutan-2-yl)-1-phenethyl-1H-indazole-3-carboxamide',\n",
       "       'ADB-PINACA=N-(1-amino-3,3-dimethyl-1-oxobutan-2-yl)-1-pentyl-1H-indazole-3-carboxamide',\n",
       "       'AFUBIATA=N-adamant-1-yl-1-(4-fluorobenzyl)-1H-indole-3-acetamide',\n",
       "       'AKB48=N-(1-adamantyl)-1-pentyl-1H-indazole-3-carboxamide',\n",
       "       'AM2201=1-(5-fluoropentyl)-3-(1-naphthoyl)indole',\n",
       "       \"BZO-4en-POXIZID=(Z)-N'-(2-oxo-1-(pent-4-en-1-yl)indolin-3-ylidene)benzohydrazide\",\n",
       "       'BZO-CHMOXIZID=3-(2-benzoylhydrazono)-1-(cyclohexylmethyl)-2-indolinone',\n",
       "       \"BZO-HEXOXIZID=N'-[(3Z)-1-hexyl-2-oxo-1,2-dihydro-3H-indol-3-ylidene]benzohydrazide\",\n",
       "       \"BZO-POXIZID=N'-[(3Z)-1-pentyl-2-oxo-1,2-dihydro-3H-indol-3-ylidene]benzohydrazide\",\n",
       "       'CH-PIATA=N-cyclohexyl-2-(1-pentylindol-3-yl)acetamide',\n",
       "       'EDMB-4en-PINACA=ethyl 3,3-dimethyl-2-(1-(pent-4-en-1-yl)-1H-indazole-3-carboxamido)butanoate',\n",
       "       'EDMB-PINACA=ethyl 3,3-dimethyl-2-(1-pentyl-1H-indazole-3-carboxamido)butanoate',\n",
       "       'EMB-FUBINACA=ethyl 2-(1-(4-fluorobenzyl)-1H-indazole-3-carboxamido)-3-methylbutanoate',\n",
       "       'FDU-PB-22=naphthalen-1-yl 1-(4-fluorobenzyl)-1H-indole-3-carboxylate',\n",
       "       'FUB-144=(1-(4-fluorobenzyl)-1H-indol-3-yl)(2,2,3,3-tetramethylcyclopropyl)methanone',\n",
       "       'FUB-AKB48=N-(1-adaman-1-yl)-1-(4-fluorobenzyl)-1H-indazole-3-carboxamide ',\n",
       "       'FUB-AMB=methyl 2-(1-(4-fluorobenzyl)-1H-indazole-3-carboxamido)-3-methylbutanoate',\n",
       "       'JWH-018=1-pentyl-3-(1-naphthoyl)indole',\n",
       "       'JWH-081=1-pentyl-3-(1-(4-methoxy)naphthoyl)indole',\n",
       "       'JWH-122=1-pentyl-3-(4-methyl-1-naphthoyl)indole',\n",
       "       'JWH-210=1-pentyl-3-(4-ethyl-1-naphthoyl)indole',\n",
       "       'JWH-250=1-pentyl-3-(2-methoxyphenylacetyl)indole',\n",
       "       'MAB-CHMINACA=N-(1-amino-3,3-dimethyl-1-oxobutan-2-yl)-1-(cyclohexylmethyl)-1H-indazole-3-carboxamide',\n",
       "       'MDMB-4en-PICA=methyl 3,3-dimethyl-2-(1-(pent-4-en-1-yl)-1H-indole-3-carboxamido)butanoate',\n",
       "       'MDMB-4en-PINACA=methyl 3,3-dimethyl-2-(1-(pent-4-en-1-yl)-1H-indazole-3-carboxamido)butanoate',\n",
       "       'MDMB-5Br-INACA=N-(1-methoxy-3,3-dimethyl-1-oxobutan-2-yl)-5-bromoindazole-3-carboxamide',\n",
       "       'MDMB-BUTINACA=methyl 2-(1-(butyl)-1H-indazole-3-carboxamido)-3,3-dimethylbutanoate  ',\n",
       "       'MDMB-CHMICA=methyl 2-(1-(cyclohexylmethyl)-1H-indole-3-carboxamido)-3,3-dimethylbutanoate',\n",
       "       'MDMB-INACA=N-(1-methoxycarbonyl-2,2-dimethylpropyl)-1H-indazole-3-carboxamide',\n",
       "       'MMB-4en-PINACA=methyl 3-methyl-2-(1-(pent-4-en-1-yl)-1H-indazole-3-carboxamido)butanoate',\n",
       "       'MMB-FUBICA=methyl 2-(1-(4-fluorobenzyl)-1H-indole-3-carboxamido)-3-methylbutanoate',\n",
       "       'NM-2201=naphthalen-1-yl 1-(5-fluoropentyl)-1H-indole-3-carboxylate',\n",
       "       'RCS-4=1-pentyl-3-(4-methoxybenzoyl)indole',\n",
       "       'THJ-018=1-pentyl-1H-indazol-3-yl(naphthalen-1-yl)methanone',\n",
       "       'THJ-2201=(1-(5-fluoropentyl)-1H-indazol-3-yl)(naphthalen-1-yl)methanone',\n",
       "       'UR-144=(1-pentyl-1H-indol-3-yl)(2,2,3,3-tetramethylcyclopropyl)methanone',\n",
       "       'XLR11=[1-(5-fluoropentyl)-1H-indol-3-yl](2,2,3,3-tetramethylcyclopropyl)methanone',\n",
       "       '1 As reported by NFLIS-Drug laboratories, with no specific drug name provided.',\n",
       "       'Source: U.S. Drug Enforcement Administration, Diversion Control Division, National Forensic Laboratory Information System, 2022. Data generated: August 18, 2023.',\n",
       "       'Suggested Citation: U.S. Drug Enforcement Administration, Diversion Control Division. (2023). Table 4. State counts for synthetic cannabinoids: 2022. https://www.nflis.deadiversion.usdoj.gov/publicationsRedesign.xhtml'],\n",
       "      dtype=object)"
      ]
     },
     "execution_count": 22,
     "metadata": {},
     "output_type": "execute_result"
    }
   ],
   "source": [
    "Toxicology['Drug'].unique()"
   ]
  },
  {
   "cell_type": "code",
   "execution_count": null,
   "id": "557f4e2a",
   "metadata": {},
   "outputs": [],
   "source": []
  }
 ],
 "metadata": {
  "kernelspec": {
   "display_name": "Python 3 (ipykernel)",
   "language": "python",
   "name": "python3"
  },
  "language_info": {
   "codemirror_mode": {
    "name": "ipython",
    "version": 3
   },
   "file_extension": ".py",
   "mimetype": "text/x-python",
   "name": "python",
   "nbconvert_exporter": "python",
   "pygments_lexer": "ipython3",
   "version": "3.11.5"
  }
 },
 "nbformat": 4,
 "nbformat_minor": 5
}
